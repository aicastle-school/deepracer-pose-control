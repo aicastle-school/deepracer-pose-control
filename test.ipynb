{
 "cells": [
  {
   "cell_type": "markdown",
   "id": "6fcffd71",
   "metadata": {},
   "source": [
    "# 파이썬 덧셈 실습"
   ]
  },
  {
   "cell_type": "code",
   "execution_count": 3,
   "id": "98ff8eda",
   "metadata": {},
   "outputs": [],
   "source": [
    "a=1"
   ]
  },
  {
   "cell_type": "markdown",
   "id": "c2acc4a7",
   "metadata": {},
   "source": [
    "#  b를 정의해보자"
   ]
  },
  {
   "cell_type": "code",
   "execution_count": 4,
   "id": "84e1e0a8",
   "metadata": {},
   "outputs": [],
   "source": [
    "b=2"
   ]
  },
  {
   "cell_type": "markdown",
   "id": "0cf41eae",
   "metadata": {},
   "source": [
    "- 이것을 출력하는것은 `print()`를 한다"
   ]
  },
  {
   "cell_type": "code",
   "execution_count": null,
   "id": "c3719494",
   "metadata": {},
   "outputs": [
    {
     "name": "stdout",
     "output_type": "stream",
     "text": [
      "3\n"
     ]
    }
   ],
   "source": [
    "print(a"
   ]
  },
  {
   "cell_type": "code",
   "execution_count": 7,
   "id": "263cf561",
   "metadata": {},
   "outputs": [
    {
     "name": "stdout",
     "output_type": "stream",
     "text": [
      "Login to 192.168.1.2 .Success!\n",
      "Connected (version 2.0, client OpenSSH_8.2p1)\n",
      "Authentication (password) successful!\n",
      "[chan 1] Opened sftp connection (server version 3)\n"
     ]
    }
   ],
   "source": [
    "import os\n",
    "from aicastle.deepracer.vehicle.api.client import VehicleClient\n",
    "vehicle =VehicleClient(\n",
    "    ip=os.getenv(\"VEHICLE_IP\"),\n",
    "    password=os.getenv(\"VEHICLE_PASSWORD\"),\n",
    "    ssh_module_update=True,\n",
    "    ssh_module_update_custom=True,\n",
    "    ssh_password=os.getenv(\"SSH_PASSWORD\"),\n",
    "    width=os.getenv(\"IMAGE_WIDTH\", 480),\n",
    "    height=os.getenv(\"IMAGE_HEIGHT\", 360),\n",
    ")\n"
   ]
  },
  {
   "cell_type": "code",
   "execution_count": 18,
   "id": "a1038882",
   "metadata": {},
   "outputs": [],
   "source": [
    "res = vehicle.move(\n",
    "    angle=0 ,\n",
    "    speed=4\n",
    ") "
   ]
  },
  {
   "cell_type": "code",
   "execution_count": 14,
   "id": "b8f966dd",
   "metadata": {},
   "outputs": [
    {
     "data": {
      "text/plain": [
       "b'{\\n  \"success\": true\\n}\\n'"
      ]
     },
     "execution_count": 14,
     "metadata": {},
     "output_type": "execute_result"
    }
   ],
   "source": [
    "res.content"
   ]
  },
  {
   "cell_type": "code",
   "execution_count": 19,
   "id": "f5ea9b38",
   "metadata": {},
   "outputs": [
    {
     "data": {
      "text/plain": [
       "{'ip': '192.168.1.2',\n",
       " 'fetch_fps': 30,\n",
       " 'speed_percent': 100,\n",
       " 'camera_status': 'connected',\n",
       " 'lidar_status': 'not_connected',\n",
       " 'stereo_status': 'not_connected',\n",
       " 'battery_level': 8,\n",
       " 'usb_connected': None,\n",
       " 'drive_mode': 'manual',\n",
       " 'angle_center': -5.0,\n",
       " 'angle_left': 20.0,\n",
       " 'angle_right': -30.0,\n",
       " 'speed_stopped': -12.0,\n",
       " 'speed_forward': -42.0,\n",
       " 'speed_backward': 23.0}"
      ]
     },
     "execution_count": 19,
     "metadata": {},
     "output_type": "execute_result"
    }
   ],
   "source": [
    "vehicle.info"
   ]
  },
  {
   "cell_type": "code",
   "execution_count": 17,
   "id": "b5d7d172",
   "metadata": {},
   "outputs": [
    {
     "data": {
      "text/plain": [
       "100"
      ]
     },
     "execution_count": 17,
     "metadata": {},
     "output_type": "execute_result"
    }
   ],
   "source": [
    "vehicle.set_speed_percent(100)"
   ]
  }
 ],
 "metadata": {
  "kernelspec": {
   "display_name": "venv",
   "language": "python",
   "name": "python3"
  },
  "language_info": {
   "codemirror_mode": {
    "name": "ipython",
    "version": 3
   },
   "file_extension": ".py",
   "mimetype": "text/x-python",
   "name": "python",
   "nbconvert_exporter": "python",
   "pygments_lexer": "ipython3",
   "version": "3.12.10"
  }
 },
 "nbformat": 4,
 "nbformat_minor": 5
}
